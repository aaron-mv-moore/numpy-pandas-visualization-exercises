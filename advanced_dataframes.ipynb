{
 "cells": [
  {
   "cell_type": "markdown",
   "id": "f6420c61",
   "metadata": {},
   "source": [
    "## Exercises I"
   ]
  },
  {
   "cell_type": "code",
   "execution_count": 1,
   "id": "30e0a8d3",
   "metadata": {},
   "outputs": [],
   "source": [
    "import pandas as pd\n",
    "import numpy as np\n",
    "import env"
   ]
  },
  {
   "cell_type": "markdown",
   "id": "87dea442",
   "metadata": {},
   "source": [
    "Use your function to obtain a connection to the employees database."
   ]
  },
  {
   "cell_type": "code",
   "execution_count": null,
   "id": "488f2d83",
   "metadata": {},
   "outputs": [],
   "source": [
    "pd.read_sql('SELECT * FROM employees LIMIT 5', env.get_db_url('employees'))"
   ]
  },
  {
   "cell_type": "markdown",
   "id": "c8686e9f",
   "metadata": {},
   "source": [
    "a. Intentionally make a typo in the database url. What kind of error message do you see?"
   ]
  },
  {
   "cell_type": "code",
   "execution_count": null,
   "id": "b3c30114",
   "metadata": {},
   "outputs": [],
   "source": [
    "# There is an access denied message becasue of the mispelled db name\n",
    "pd.read_sql('SELECT * FROM employees LIMIT 5', env.get_db_url('employes'))"
   ]
  },
  {
   "cell_type": "markdown",
   "id": "d46cda08",
   "metadata": {},
   "source": [
    "b. Intentionally make an error in your SQL query. What does the error message look like?"
   ]
  },
  {
   "cell_type": "code",
   "execution_count": null,
   "id": "d5709ca2",
   "metadata": {},
   "outputs": [],
   "source": [
    "# it says I have an error in my sql syntax\n",
    "pd.read_sql('SELECT * FROM employees LMIT 5', env.get_db_url('employees'))"
   ]
  },
  {
   "cell_type": "markdown",
   "id": "7e27b178",
   "metadata": {},
   "source": [
    "Read the employees and titles tables into two separate DataFrames."
   ]
  },
  {
   "cell_type": "code",
   "execution_count": null,
   "id": "4fcbd975",
   "metadata": {},
   "outputs": [],
   "source": [
    "emp_df = pd.read_sql('SELECT * FROM employees', env.get_db_url('employees'))"
   ]
  },
  {
   "cell_type": "code",
   "execution_count": null,
   "id": "91b99d2e",
   "metadata": {},
   "outputs": [],
   "source": [
    "titles_df = pd.read_sql('SELECT * FROM titles', env.get_db_url('employees'))"
   ]
  },
  {
   "cell_type": "markdown",
   "id": "74d6662d",
   "metadata": {},
   "source": [
    "How many rows and columns do you have in each DataFrame? Is that what you expected?"
   ]
  },
  {
   "cell_type": "code",
   "execution_count": null,
   "id": "5ccea58f",
   "metadata": {},
   "outputs": [],
   "source": [
    "emp_df.shape"
   ]
  },
  {
   "cell_type": "code",
   "execution_count": null,
   "id": "0fa33c7b",
   "metadata": {},
   "outputs": [],
   "source": [
    "titles_df.shape"
   ]
  },
  {
   "cell_type": "markdown",
   "id": "8ccc372e",
   "metadata": {},
   "source": [
    "Display the summary statistics for each DataFrame."
   ]
  },
  {
   "cell_type": "code",
   "execution_count": null,
   "id": "41b92ac0",
   "metadata": {},
   "outputs": [],
   "source": [
    "emp_df.describe(), emp_df.info()"
   ]
  },
  {
   "cell_type": "code",
   "execution_count": null,
   "id": "cdd04c2b",
   "metadata": {},
   "outputs": [],
   "source": [
    "titles_df.info(), titles_df.describe()"
   ]
  },
  {
   "cell_type": "markdown",
   "id": "4f1462b7",
   "metadata": {},
   "source": [
    "How many unique titles are in the titles DataFrame?"
   ]
  },
  {
   "cell_type": "code",
   "execution_count": null,
   "id": "58ed5921",
   "metadata": {},
   "outputs": [],
   "source": [
    "len(titles_df.title.unique())"
   ]
  },
  {
   "cell_type": "code",
   "execution_count": null,
   "id": "4c9d25da",
   "metadata": {},
   "outputs": [],
   "source": [
    "len(titles_df.title.value_counts())"
   ]
  },
  {
   "cell_type": "markdown",
   "id": "94bcacf8",
   "metadata": {},
   "source": [
    "What is the oldest date in the to_date column?"
   ]
  },
  {
   "cell_type": "code",
   "execution_count": null,
   "id": "0f853cff",
   "metadata": {},
   "outputs": [],
   "source": [
    "titles_df.to_date.min()"
   ]
  },
  {
   "cell_type": "markdown",
   "id": "07a558a0",
   "metadata": {},
   "source": [
    "What is the most recent date in the to_date column?"
   ]
  },
  {
   "cell_type": "code",
   "execution_count": null,
   "id": "d48db616",
   "metadata": {},
   "outputs": [],
   "source": [
    "# including currrently employed\n",
    "titles_df.to_date.max()"
   ]
  },
  {
   "cell_type": "code",
   "execution_count": null,
   "id": "105dfb8f",
   "metadata": {},
   "outputs": [],
   "source": [
    "# excluding currently employed people\n",
    "titles_df.to_date[titles_df.to_date != titles_df.to_date.max()].max()"
   ]
  },
  {
   "cell_type": "markdown",
   "id": "2e414f16",
   "metadata": {},
   "source": [
    "## Exercises II"
   ]
  },
  {
   "cell_type": "markdown",
   "id": "5f98b3b0",
   "metadata": {},
   "source": [
    "Copy the users and roles DataFrames from the examples above."
   ]
  },
  {
   "cell_type": "code",
   "execution_count": null,
   "id": "9ff500e4",
   "metadata": {},
   "outputs": [],
   "source": [
    "# Create the users DataFrame.\n",
    "\n",
    "users = pd.DataFrame({\n",
    "    'id': [1, 2, 3, 4, 5, 6],\n",
    "    'name': ['bob', 'joe', 'sally', 'adam', 'jane', 'mike'],\n",
    "    'role_id': [1, 2, 3, 3, np.nan, np.nan]\n",
    "})\n",
    "users\n",
    "\n",
    "# Create the roles DataFrame\n",
    "\n",
    "roles = pd.DataFrame({\n",
    "    'id': [1, 2, 3, 4],\n",
    "    'name': ['admin', 'author', 'reviewer', 'commenter']\n",
    "})\n",
    "roles\n"
   ]
  },
  {
   "cell_type": "markdown",
   "id": "4256530a",
   "metadata": {},
   "source": [
    "What is the result of using a right join on the DataFrames?"
   ]
  },
  {
   "cell_type": "code",
   "execution_count": null,
   "id": "094b391f",
   "metadata": {},
   "outputs": [],
   "source": [
    "#roles = roles.rename(columns={'id':'role_id', 'name':'role'})\n",
    "pd.merge(users, roles, how='right', on='role_id')"
   ]
  },
  {
   "cell_type": "markdown",
   "id": "adbaa3dd",
   "metadata": {},
   "source": [
    "What is the result of using an outer join on the DataFrames?"
   ]
  },
  {
   "cell_type": "code",
   "execution_count": null,
   "id": "1f0e5371",
   "metadata": {},
   "outputs": [],
   "source": [
    "pd.merge(users, roles, how='outer', on='role_id')"
   ]
  },
  {
   "cell_type": "markdown",
   "id": "d0c2e36c",
   "metadata": {},
   "source": [
    "What happens if you drop the foreign keys from the DataFrames and try to merge them?"
   ]
  },
  {
   "cell_type": "code",
   "execution_count": null,
   "id": "37e23826",
   "metadata": {},
   "outputs": [],
   "source": [
    "# if you drop the foreign keys there is no way to correctly merge to roles with the users. If you try to merge with the users 'id' there is no relationship between the users 'id' and the roles 'id'"
   ]
  },
  {
   "cell_type": "markdown",
   "id": "a38b3f7a",
   "metadata": {},
   "source": [
    "Load the mpg dataset from PyDataset."
   ]
  },
  {
   "cell_type": "code",
   "execution_count": null,
   "id": "8073c51d",
   "metadata": {},
   "outputs": [],
   "source": [
    "from pydataset import data\n",
    "mpg = data('mpg')"
   ]
  },
  {
   "cell_type": "markdown",
   "id": "3eba99a2",
   "metadata": {},
   "source": [
    "Output and read the documentation for the mpg dataset."
   ]
  },
  {
   "cell_type": "code",
   "execution_count": null,
   "id": "8877e89d",
   "metadata": {},
   "outputs": [],
   "source": [
    "data('mpg', show_doc=True)"
   ]
  },
  {
   "cell_type": "markdown",
   "id": "35eca992",
   "metadata": {},
   "source": [
    "How many rows and columns are in the dataset?"
   ]
  },
  {
   "cell_type": "code",
   "execution_count": null,
   "id": "593a39a6",
   "metadata": {},
   "outputs": [],
   "source": [
    "mpg.shape"
   ]
  },
  {
   "cell_type": "markdown",
   "id": "2586bc90",
   "metadata": {},
   "source": [
    "Check out your column names and perform any cleanup you may want on them."
   ]
  },
  {
   "cell_type": "code",
   "execution_count": null,
   "id": "10225e3b",
   "metadata": {},
   "outputs": [],
   "source": [
    "## change drv to drive\n",
    "## change displ to displacement\n",
    "# mpg = mpg.rename(columns={'drv':'drive', 'displ':'displacement', 'cyl':'cylinders'})"
   ]
  },
  {
   "cell_type": "markdown",
   "id": "d4eb6d54",
   "metadata": {},
   "source": [
    "Display the summary statistics for the dataset."
   ]
  },
  {
   "cell_type": "code",
   "execution_count": null,
   "id": "bfd25654",
   "metadata": {},
   "outputs": [],
   "source": [
    "mpg.describe()"
   ]
  },
  {
   "cell_type": "markdown",
   "id": "9ef2c046",
   "metadata": {},
   "source": [
    "How many different manufacturers are there?"
   ]
  },
  {
   "cell_type": "code",
   "execution_count": null,
   "id": "8ef11f02",
   "metadata": {},
   "outputs": [],
   "source": [
    "mpg.manufacturer.nunique()"
   ]
  },
  {
   "cell_type": "markdown",
   "id": "c225159f",
   "metadata": {},
   "source": [
    "How many different models are there?"
   ]
  },
  {
   "cell_type": "code",
   "execution_count": null,
   "id": "bbb14151",
   "metadata": {},
   "outputs": [],
   "source": [
    "mpg.model.nunique()"
   ]
  },
  {
   "cell_type": "markdown",
   "id": "cadfe11b",
   "metadata": {},
   "source": [
    "Create a column named mileage_difference like you did in the DataFrames exercises; this column should contain the difference between highway and city mileage for each car."
   ]
  },
  {
   "cell_type": "code",
   "execution_count": null,
   "id": "1125991f",
   "metadata": {},
   "outputs": [],
   "source": [
    "#mpg['mileage_diff'] = mpg.hwy - mpg.cty\n",
    "mpg"
   ]
  },
  {
   "cell_type": "markdown",
   "id": "944d8494",
   "metadata": {},
   "source": [
    "Create a column named average_mileage like you did in the DataFrames exercises; this is the mean of the city and highway mileage."
   ]
  },
  {
   "cell_type": "code",
   "execution_count": null,
   "id": "0511454e",
   "metadata": {},
   "outputs": [],
   "source": [
    "# mpg['avg_mileage'] = mpg[['cty', 'hwy']].agg('mean', axis=1)\n",
    "mpg"
   ]
  },
  {
   "cell_type": "markdown",
   "id": "8b2a6c65",
   "metadata": {},
   "source": [
    "Create a new column on the mpg dataset named is_automatic that holds boolean values denoting whether the car has an automatic transmission."
   ]
  },
  {
   "cell_type": "code",
   "execution_count": null,
   "id": "b48d46e2",
   "metadata": {},
   "outputs": [],
   "source": [
    "mpg['is_automatic'] = mpg.trans.apply(lambda x:'auto' in x)\n",
    "# mpg[['trans', 'is_automatic']]\n",
    "# mpg.trans.str.contains('auto')\n",
    "mpg.trans.str.startswith('auto')"
   ]
  },
  {
   "cell_type": "markdown",
   "id": "a2d04706",
   "metadata": {},
   "source": [
    "Using the mpg dataset, find out which which manufacturer has the best miles per gallon on average?"
   ]
  },
  {
   "cell_type": "code",
   "execution_count": null,
   "id": "50740023",
   "metadata": {},
   "outputs": [],
   "source": [
    "mpg['avg_mileage'].groupby(mpg.manufacturer).agg('mean').nlargest(1)\n",
    "mpg.groupby(mpg.manufacturer).avg_mileage.mean()\n",
    "mpg.avg_mileage.groupby(mpg.manufacturer).mean().nlargest(1)"
   ]
  },
  {
   "cell_type": "markdown",
   "id": "c14bd29b",
   "metadata": {},
   "source": [
    "Do automatic or manual cars have better miles per gallon?"
   ]
  },
  {
   "cell_type": "code",
   "execution_count": null,
   "id": "68057990",
   "metadata": {},
   "outputs": [],
   "source": [
    "mpg['avg_mileage'].groupby(mpg.is_automatic).agg('mean')\n",
    "mpg.groupby('is_automatic').avg_mileage.mean()"
   ]
  },
  {
   "cell_type": "markdown",
   "id": "12f04e35",
   "metadata": {},
   "source": [
    "## Exercises III"
   ]
  },
  {
   "cell_type": "markdown",
   "id": "7221f763",
   "metadata": {},
   "source": [
    "Use your get_db_url function to help you explore the data from the chipotle database."
   ]
  },
  {
   "cell_type": "code",
   "execution_count": 29,
   "id": "94d4dd0b",
   "metadata": {},
   "outputs": [],
   "source": [
    "df = pd.read_sql('SELECT * FROM orders', env.get_db_url('chipotle'))"
   ]
  },
  {
   "cell_type": "markdown",
   "id": "ccd29bf3",
   "metadata": {},
   "source": [
    "What is the total price for each order?"
   ]
  },
  {
   "cell_type": "code",
   "execution_count": 23,
   "id": "0102d844",
   "metadata": {},
   "outputs": [
    {
     "data": {
      "text/html": [
       "<div>\n",
       "<style scoped>\n",
       "    .dataframe tbody tr th:only-of-type {\n",
       "        vertical-align: middle;\n",
       "    }\n",
       "\n",
       "    .dataframe tbody tr th {\n",
       "        vertical-align: top;\n",
       "    }\n",
       "\n",
       "    .dataframe thead th {\n",
       "        text-align: right;\n",
       "    }\n",
       "</style>\n",
       "<table border=\"1\" class=\"dataframe\">\n",
       "  <thead>\n",
       "    <tr style=\"text-align: right;\">\n",
       "      <th></th>\n",
       "      <th>item_order_price</th>\n",
       "    </tr>\n",
       "    <tr>\n",
       "      <th>order_id</th>\n",
       "      <th></th>\n",
       "    </tr>\n",
       "  </thead>\n",
       "  <tbody>\n",
       "    <tr>\n",
       "      <th>1</th>\n",
       "      <td>11.56</td>\n",
       "    </tr>\n",
       "    <tr>\n",
       "      <th>2</th>\n",
       "      <td>33.96</td>\n",
       "    </tr>\n",
       "    <tr>\n",
       "      <th>3</th>\n",
       "      <td>12.67</td>\n",
       "    </tr>\n",
       "    <tr>\n",
       "      <th>4</th>\n",
       "      <td>21.00</td>\n",
       "    </tr>\n",
       "    <tr>\n",
       "      <th>5</th>\n",
       "      <td>13.70</td>\n",
       "    </tr>\n",
       "    <tr>\n",
       "      <th>...</th>\n",
       "      <td>...</td>\n",
       "    </tr>\n",
       "    <tr>\n",
       "      <th>1830</th>\n",
       "      <td>23.00</td>\n",
       "    </tr>\n",
       "    <tr>\n",
       "      <th>1831</th>\n",
       "      <td>12.90</td>\n",
       "    </tr>\n",
       "    <tr>\n",
       "      <th>1832</th>\n",
       "      <td>13.20</td>\n",
       "    </tr>\n",
       "    <tr>\n",
       "      <th>1833</th>\n",
       "      <td>23.50</td>\n",
       "    </tr>\n",
       "    <tr>\n",
       "      <th>1834</th>\n",
       "      <td>28.75</td>\n",
       "    </tr>\n",
       "  </tbody>\n",
       "</table>\n",
       "<p>1834 rows × 1 columns</p>\n",
       "</div>"
      ],
      "text/plain": [
       "          item_order_price\n",
       "order_id                  \n",
       "1                    11.56\n",
       "2                    33.96\n",
       "3                    12.67\n",
       "4                    21.00\n",
       "5                    13.70\n",
       "...                    ...\n",
       "1830                 23.00\n",
       "1831                 12.90\n",
       "1832                 13.20\n",
       "1833                 23.50\n",
       "1834                 28.75\n",
       "\n",
       "[1834 rows x 1 columns]"
      ]
     },
     "execution_count": 23,
     "metadata": {},
     "output_type": "execute_result"
    }
   ],
   "source": [
    "# df.item_price = df.item_price.apply(lambda x: float(x.replace('$', '')))\n",
    "# df.quantity = df.quantity.apply(float)\n",
    "\n",
    "df['item_order_price'] = df.quantity * df.item_price\n",
    "\n",
    "df[['order_id', 'item_order_price']].groupby('order_id').sum()"
   ]
  },
  {
   "cell_type": "markdown",
   "id": "e5208dfa",
   "metadata": {},
   "source": [
    "What are the most popular 3 items?"
   ]
  },
  {
   "cell_type": "code",
   "execution_count": 24,
   "id": "8f23d34a",
   "metadata": {},
   "outputs": [
    {
     "data": {
      "text/plain": [
       "Chicken Bowl           726\n",
       "Chicken Burrito        553\n",
       "Chips and Guacamole    479\n",
       "Name: item_name, dtype: int64"
      ]
     },
     "execution_count": 24,
     "metadata": {},
     "output_type": "execute_result"
    }
   ],
   "source": [
    "df.item_name.value_counts().head(3)"
   ]
  },
  {
   "cell_type": "markdown",
   "id": "f5989c82",
   "metadata": {},
   "source": [
    "Which item has produced the most revenue?"
   ]
  },
  {
   "cell_type": "code",
   "execution_count": 30,
   "id": "b300c9d2",
   "metadata": {},
   "outputs": [
    {
     "data": {
      "text/plain": [
       "0                      NaN\n",
       "1                      NaN\n",
       "2                      NaN\n",
       "3                      NaN\n",
       "4                      NaN\n",
       "                      ... \n",
       "Veggie Burrito         NaN\n",
       "Veggie Crispy Tacos    NaN\n",
       "Veggie Salad           NaN\n",
       "Veggie Salad Bowl      NaN\n",
       "Veggie Soft Tacos      NaN\n",
       "Length: 4672, dtype: object"
      ]
     },
     "execution_count": 30,
     "metadata": {},
     "output_type": "execute_result"
    }
   ],
   "source": [
    "# item count * the item price\n",
    "\n",
    "df.item_name.value_counts() * df.item_pric\n",
    "# df.groupby('item_name').item_order_price.agg('sum').sort_values(ascending=False).nlargest(1)\n",
    "\n"
   ]
  },
  {
   "cell_type": "markdown",
   "id": "bcd7409d",
   "metadata": {},
   "source": [
    "Join the employees and titles DataFrames together."
   ]
  },
  {
   "cell_type": "code",
   "execution_count": 27,
   "id": "7c3b2194",
   "metadata": {},
   "outputs": [],
   "source": [
    "df = pd.read_sql('SELECT * FROM employees JOIN titles USING (emp_no)', env.get_db_url('employees'))"
   ]
  },
  {
   "cell_type": "markdown",
   "id": "9cde9ac9",
   "metadata": {},
   "source": [
    "For each title, find the hire date of the employee that was hired most recently with that title."
   ]
  },
  {
   "cell_type": "code",
   "execution_count": 15,
   "id": "b533d4a5",
   "metadata": {},
   "outputs": [
    {
     "data": {
      "text/html": [
       "<div>\n",
       "<style scoped>\n",
       "    .dataframe tbody tr th:only-of-type {\n",
       "        vertical-align: middle;\n",
       "    }\n",
       "\n",
       "    .dataframe tbody tr th {\n",
       "        vertical-align: top;\n",
       "    }\n",
       "\n",
       "    .dataframe thead th {\n",
       "        text-align: right;\n",
       "    }\n",
       "</style>\n",
       "<table border=\"1\" class=\"dataframe\">\n",
       "  <thead>\n",
       "    <tr style=\"text-align: right;\">\n",
       "      <th></th>\n",
       "      <th>hire_date</th>\n",
       "    </tr>\n",
       "    <tr>\n",
       "      <th>title</th>\n",
       "      <th></th>\n",
       "    </tr>\n",
       "  </thead>\n",
       "  <tbody>\n",
       "    <tr>\n",
       "      <th>Assistant Engineer</th>\n",
       "      <td>1999-12-24</td>\n",
       "    </tr>\n",
       "    <tr>\n",
       "      <th>Engineer</th>\n",
       "      <td>2000-01-28</td>\n",
       "    </tr>\n",
       "    <tr>\n",
       "      <th>Manager</th>\n",
       "      <td>1992-02-05</td>\n",
       "    </tr>\n",
       "    <tr>\n",
       "      <th>Senior Engineer</th>\n",
       "      <td>2000-01-01</td>\n",
       "    </tr>\n",
       "    <tr>\n",
       "      <th>Senior Staff</th>\n",
       "      <td>2000-01-13</td>\n",
       "    </tr>\n",
       "    <tr>\n",
       "      <th>Staff</th>\n",
       "      <td>2000-01-12</td>\n",
       "    </tr>\n",
       "    <tr>\n",
       "      <th>Technique Leader</th>\n",
       "      <td>1999-12-31</td>\n",
       "    </tr>\n",
       "  </tbody>\n",
       "</table>\n",
       "</div>"
      ],
      "text/plain": [
       "                     hire_date\n",
       "title                         \n",
       "Assistant Engineer  1999-12-24\n",
       "Engineer            2000-01-28\n",
       "Manager             1992-02-05\n",
       "Senior Engineer     2000-01-01\n",
       "Senior Staff        2000-01-13\n",
       "Staff               2000-01-12\n",
       "Technique Leader    1999-12-31"
      ]
     },
     "execution_count": 15,
     "metadata": {},
     "output_type": "execute_result"
    }
   ],
   "source": [
    "df.pivot_table(index='title', values='hire_date', aggfunc='max')"
   ]
  },
  {
   "cell_type": "markdown",
   "id": "89e53729",
   "metadata": {},
   "source": [
    "Write the code necessary to create a cross tabulation of the number of titles by department. (Hint: this will involve a combination of SQL code to pull the necessary data and python/pandas code to perform the manipulations.)"
   ]
  },
  {
   "cell_type": "code",
   "execution_count": 16,
   "id": "d76b4c4b",
   "metadata": {},
   "outputs": [],
   "source": [
    "df = pd.read_sql('''SELECT *\n",
    "FROM titles\n",
    "\tJOIN dept_emp USING (emp_no)\n",
    "\tJOIN departments USING (dept_no);''', env.get_db_url('employees'))\n",
    "\n",
    "\n",
    "\n"
   ]
  },
  {
   "cell_type": "code",
   "execution_count": 18,
   "id": "ba0cd73a",
   "metadata": {},
   "outputs": [
    {
     "data": {
      "text/html": [
       "<div>\n",
       "<style scoped>\n",
       "    .dataframe tbody tr th:only-of-type {\n",
       "        vertical-align: middle;\n",
       "    }\n",
       "\n",
       "    .dataframe tbody tr th {\n",
       "        vertical-align: top;\n",
       "    }\n",
       "\n",
       "    .dataframe thead th {\n",
       "        text-align: right;\n",
       "    }\n",
       "</style>\n",
       "<table border=\"1\" class=\"dataframe\">\n",
       "  <thead>\n",
       "    <tr style=\"text-align: right;\">\n",
       "      <th>title</th>\n",
       "      <th>Assistant Engineer</th>\n",
       "      <th>Engineer</th>\n",
       "      <th>Manager</th>\n",
       "      <th>Senior Engineer</th>\n",
       "      <th>Senior Staff</th>\n",
       "      <th>Staff</th>\n",
       "      <th>Technique Leader</th>\n",
       "    </tr>\n",
       "    <tr>\n",
       "      <th>dept_name</th>\n",
       "      <th></th>\n",
       "      <th></th>\n",
       "      <th></th>\n",
       "      <th></th>\n",
       "      <th></th>\n",
       "      <th></th>\n",
       "      <th></th>\n",
       "    </tr>\n",
       "  </thead>\n",
       "  <tbody>\n",
       "    <tr>\n",
       "      <th>Customer Service</th>\n",
       "      <td>298</td>\n",
       "      <td>2362</td>\n",
       "      <td>4</td>\n",
       "      <td>2027</td>\n",
       "      <td>13925</td>\n",
       "      <td>16150</td>\n",
       "      <td>309</td>\n",
       "    </tr>\n",
       "    <tr>\n",
       "      <th>Development</th>\n",
       "      <td>7769</td>\n",
       "      <td>58135</td>\n",
       "      <td>2</td>\n",
       "      <td>49326</td>\n",
       "      <td>1247</td>\n",
       "      <td>1424</td>\n",
       "      <td>7683</td>\n",
       "    </tr>\n",
       "    <tr>\n",
       "      <th>Finance</th>\n",
       "      <td>0</td>\n",
       "      <td>0</td>\n",
       "      <td>2</td>\n",
       "      <td>0</td>\n",
       "      <td>12139</td>\n",
       "      <td>13929</td>\n",
       "      <td>0</td>\n",
       "    </tr>\n",
       "    <tr>\n",
       "      <th>Human Resources</th>\n",
       "      <td>0</td>\n",
       "      <td>0</td>\n",
       "      <td>2</td>\n",
       "      <td>0</td>\n",
       "      <td>12274</td>\n",
       "      <td>14342</td>\n",
       "      <td>0</td>\n",
       "    </tr>\n",
       "    <tr>\n",
       "      <th>Marketing</th>\n",
       "      <td>0</td>\n",
       "      <td>0</td>\n",
       "      <td>2</td>\n",
       "      <td>0</td>\n",
       "      <td>13940</td>\n",
       "      <td>16196</td>\n",
       "      <td>0</td>\n",
       "    </tr>\n",
       "    <tr>\n",
       "      <th>Production</th>\n",
       "      <td>6445</td>\n",
       "      <td>49649</td>\n",
       "      <td>4</td>\n",
       "      <td>42205</td>\n",
       "      <td>1270</td>\n",
       "      <td>1478</td>\n",
       "      <td>6557</td>\n",
       "    </tr>\n",
       "    <tr>\n",
       "      <th>Quality Management</th>\n",
       "      <td>1831</td>\n",
       "      <td>13852</td>\n",
       "      <td>4</td>\n",
       "      <td>11864</td>\n",
       "      <td>0</td>\n",
       "      <td>0</td>\n",
       "      <td>1795</td>\n",
       "    </tr>\n",
       "    <tr>\n",
       "      <th>Research</th>\n",
       "      <td>378</td>\n",
       "      <td>2986</td>\n",
       "      <td>2</td>\n",
       "      <td>2570</td>\n",
       "      <td>11637</td>\n",
       "      <td>13495</td>\n",
       "      <td>393</td>\n",
       "    </tr>\n",
       "    <tr>\n",
       "      <th>Sales</th>\n",
       "      <td>0</td>\n",
       "      <td>0</td>\n",
       "      <td>2</td>\n",
       "      <td>0</td>\n",
       "      <td>36191</td>\n",
       "      <td>41808</td>\n",
       "      <td>0</td>\n",
       "    </tr>\n",
       "  </tbody>\n",
       "</table>\n",
       "</div>"
      ],
      "text/plain": [
       "title               Assistant Engineer  Engineer  Manager  Senior Engineer  \\\n",
       "dept_name                                                                    \n",
       "Customer Service                   298      2362        4             2027   \n",
       "Development                       7769     58135        2            49326   \n",
       "Finance                              0         0        2                0   \n",
       "Human Resources                      0         0        2                0   \n",
       "Marketing                            0         0        2                0   \n",
       "Production                        6445     49649        4            42205   \n",
       "Quality Management                1831     13852        4            11864   \n",
       "Research                           378      2986        2             2570   \n",
       "Sales                                0         0        2                0   \n",
       "\n",
       "title               Senior Staff  Staff  Technique Leader  \n",
       "dept_name                                                  \n",
       "Customer Service           13925  16150               309  \n",
       "Development                 1247   1424              7683  \n",
       "Finance                    12139  13929                 0  \n",
       "Human Resources            12274  14342                 0  \n",
       "Marketing                  13940  16196                 0  \n",
       "Production                  1270   1478              6557  \n",
       "Quality Management             0      0              1795  \n",
       "Research                   11637  13495               393  \n",
       "Sales                      36191  41808                 0  "
      ]
     },
     "execution_count": 18,
     "metadata": {},
     "output_type": "execute_result"
    }
   ],
   "source": [
    "pd.crosstab(df.dept_name, df.title)"
   ]
  }
 ],
 "metadata": {
  "kernelspec": {
   "display_name": "Python 3 (ipykernel)",
   "language": "python",
   "name": "python3"
  },
  "language_info": {
   "codemirror_mode": {
    "name": "ipython",
    "version": 3
   },
   "file_extension": ".py",
   "mimetype": "text/x-python",
   "name": "python",
   "nbconvert_exporter": "python",
   "pygments_lexer": "ipython3",
   "version": "3.9.13"
  }
 },
 "nbformat": 4,
 "nbformat_minor": 5
}
