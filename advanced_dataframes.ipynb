{
 "cells": [
  {
   "cell_type": "markdown",
   "id": "675fc922",
   "metadata": {},
   "source": [
    "## Exercises I"
   ]
  },
  {
   "cell_type": "code",
   "execution_count": 1,
   "id": "72dc35e5",
   "metadata": {},
   "outputs": [],
   "source": [
    "import pandas as pd\n",
    "import numpy as np\n",
    "import env"
   ]
  },
  {
   "cell_type": "markdown",
   "id": "374c775e",
   "metadata": {},
   "source": [
    "Use your function to obtain a connection to the employees database."
   ]
  },
  {
   "cell_type": "code",
   "execution_count": 4,
   "id": "b727c1b4",
   "metadata": {},
   "outputs": [
    {
     "data": {
      "text/html": [
       "<div>\n",
       "<style scoped>\n",
       "    .dataframe tbody tr th:only-of-type {\n",
       "        vertical-align: middle;\n",
       "    }\n",
       "\n",
       "    .dataframe tbody tr th {\n",
       "        vertical-align: top;\n",
       "    }\n",
       "\n",
       "    .dataframe thead th {\n",
       "        text-align: right;\n",
       "    }\n",
       "</style>\n",
       "<table border=\"1\" class=\"dataframe\">\n",
       "  <thead>\n",
       "    <tr style=\"text-align: right;\">\n",
       "      <th></th>\n",
       "      <th>emp_no</th>\n",
       "      <th>birth_date</th>\n",
       "      <th>first_name</th>\n",
       "      <th>last_name</th>\n",
       "      <th>gender</th>\n",
       "      <th>hire_date</th>\n",
       "    </tr>\n",
       "  </thead>\n",
       "  <tbody>\n",
       "    <tr>\n",
       "      <th>0</th>\n",
       "      <td>10001</td>\n",
       "      <td>1953-09-02</td>\n",
       "      <td>Georgi</td>\n",
       "      <td>Facello</td>\n",
       "      <td>M</td>\n",
       "      <td>1986-06-26</td>\n",
       "    </tr>\n",
       "    <tr>\n",
       "      <th>1</th>\n",
       "      <td>10002</td>\n",
       "      <td>1964-06-02</td>\n",
       "      <td>Bezalel</td>\n",
       "      <td>Simmel</td>\n",
       "      <td>F</td>\n",
       "      <td>1985-11-21</td>\n",
       "    </tr>\n",
       "    <tr>\n",
       "      <th>2</th>\n",
       "      <td>10003</td>\n",
       "      <td>1959-12-03</td>\n",
       "      <td>Parto</td>\n",
       "      <td>Bamford</td>\n",
       "      <td>M</td>\n",
       "      <td>1986-08-28</td>\n",
       "    </tr>\n",
       "    <tr>\n",
       "      <th>3</th>\n",
       "      <td>10004</td>\n",
       "      <td>1954-05-01</td>\n",
       "      <td>Chirstian</td>\n",
       "      <td>Koblick</td>\n",
       "      <td>M</td>\n",
       "      <td>1986-12-01</td>\n",
       "    </tr>\n",
       "    <tr>\n",
       "      <th>4</th>\n",
       "      <td>10005</td>\n",
       "      <td>1955-01-21</td>\n",
       "      <td>Kyoichi</td>\n",
       "      <td>Maliniak</td>\n",
       "      <td>M</td>\n",
       "      <td>1989-09-12</td>\n",
       "    </tr>\n",
       "  </tbody>\n",
       "</table>\n",
       "</div>"
      ],
      "text/plain": [
       "   emp_no  birth_date first_name last_name gender   hire_date\n",
       "0   10001  1953-09-02     Georgi   Facello      M  1986-06-26\n",
       "1   10002  1964-06-02    Bezalel    Simmel      F  1985-11-21\n",
       "2   10003  1959-12-03      Parto   Bamford      M  1986-08-28\n",
       "3   10004  1954-05-01  Chirstian   Koblick      M  1986-12-01\n",
       "4   10005  1955-01-21    Kyoichi  Maliniak      M  1989-09-12"
      ]
     },
     "execution_count": 4,
     "metadata": {},
     "output_type": "execute_result"
    }
   ],
   "source": [
    "pd.read_sql('SELECT * FROM employees LIMIT 5', env.get_db_url('employees'))"
   ]
  },
  {
   "cell_type": "markdown",
   "id": "77dfc8f3",
   "metadata": {},
   "source": [
    "a. Intentionally make a typo in the database url. What kind of error message do you see?"
   ]
  },
  {
   "cell_type": "code",
   "execution_count": null,
   "id": "86d93998",
   "metadata": {},
   "outputs": [],
   "source": [
    "# There is an access denied message becasue of the mispelled db name\n",
    "pd.read_sql('SELECT * FROM employees LIMIT 5', env.get_db_url('employes'))"
   ]
  },
  {
   "cell_type": "markdown",
   "id": "aa93ed8c",
   "metadata": {},
   "source": [
    "b. Intentionally make an error in your SQL query. What does the error message look like?"
   ]
  },
  {
   "cell_type": "code",
   "execution_count": null,
   "id": "b6dea2e9",
   "metadata": {},
   "outputs": [],
   "source": [
    "# it says I have an error in my sql syntax\n",
    "pd.read_sql('SELECT * FROM employees LMIT 5', env.get_db_url('employees'))"
   ]
  },
  {
   "cell_type": "markdown",
   "id": "1cb5d0f1",
   "metadata": {},
   "source": [
    "Read the employees and titles tables into two separate DataFrames."
   ]
  },
  {
   "cell_type": "code",
   "execution_count": 10,
   "id": "f1dedeb7",
   "metadata": {},
   "outputs": [],
   "source": [
    "emp_df = pd.read_sql('SELECT * FROM employees', env.get_db_url('employees'))"
   ]
  },
  {
   "cell_type": "code",
   "execution_count": 12,
   "id": "7d2ce0bc",
   "metadata": {},
   "outputs": [],
   "source": [
    "titles_df = pd.read_sql('SELECT * FROM titles', env.get_db_url('employees'))"
   ]
  },
  {
   "cell_type": "markdown",
   "id": "1a9b71c6",
   "metadata": {},
   "source": [
    "How many rows and columns do you have in each DataFrame? Is that what you expected?"
   ]
  },
  {
   "cell_type": "code",
   "execution_count": 13,
   "id": "f38d4e53",
   "metadata": {},
   "outputs": [
    {
     "data": {
      "text/plain": [
       "(300024, 6)"
      ]
     },
     "execution_count": 13,
     "metadata": {},
     "output_type": "execute_result"
    }
   ],
   "source": [
    "emp_df.shape"
   ]
  },
  {
   "cell_type": "code",
   "execution_count": 14,
   "id": "b9aaee03",
   "metadata": {},
   "outputs": [
    {
     "data": {
      "text/plain": [
       "(443308, 4)"
      ]
     },
     "execution_count": 14,
     "metadata": {},
     "output_type": "execute_result"
    }
   ],
   "source": [
    "titles_df.shape"
   ]
  },
  {
   "cell_type": "markdown",
   "id": "8045f805",
   "metadata": {},
   "source": [
    "Display the summary statistics for each DataFrame."
   ]
  },
  {
   "cell_type": "code",
   "execution_count": 44,
   "id": "2b37899e",
   "metadata": {},
   "outputs": [
    {
     "name": "stdout",
     "output_type": "stream",
     "text": [
      "<class 'pandas.core.frame.DataFrame'>\n",
      "RangeIndex: 300024 entries, 0 to 300023\n",
      "Data columns (total 6 columns):\n",
      " #   Column      Non-Null Count   Dtype \n",
      "---  ------      --------------   ----- \n",
      " 0   emp_no      300024 non-null  int64 \n",
      " 1   birth_date  300024 non-null  object\n",
      " 2   first_name  300024 non-null  object\n",
      " 3   last_name   300024 non-null  object\n",
      " 4   gender      300024 non-null  object\n",
      " 5   hire_date   300024 non-null  object\n",
      "dtypes: int64(1), object(5)\n",
      "memory usage: 13.7+ MB\n"
     ]
    },
    {
     "data": {
      "text/plain": [
       "(              emp_no\n",
       " count  300024.000000\n",
       " mean   253321.763392\n",
       " std    161828.235540\n",
       " min     10001.000000\n",
       " 25%     85006.750000\n",
       " 50%    249987.500000\n",
       " 75%    424993.250000\n",
       " max    499999.000000,\n",
       " None)"
      ]
     },
     "execution_count": 44,
     "metadata": {},
     "output_type": "execute_result"
    }
   ],
   "source": [
    "emp_df.describe(), emp_df.info()"
   ]
  },
  {
   "cell_type": "code",
   "execution_count": 45,
   "id": "e32241a1",
   "metadata": {},
   "outputs": [
    {
     "name": "stdout",
     "output_type": "stream",
     "text": [
      "<class 'pandas.core.frame.DataFrame'>\n",
      "RangeIndex: 443308 entries, 0 to 443307\n",
      "Data columns (total 4 columns):\n",
      " #   Column     Non-Null Count   Dtype \n",
      "---  ------     --------------   ----- \n",
      " 0   emp_no     443308 non-null  int64 \n",
      " 1   title      443308 non-null  object\n",
      " 2   from_date  443308 non-null  object\n",
      " 3   to_date    443308 non-null  object\n",
      "dtypes: int64(1), object(3)\n",
      "memory usage: 13.5+ MB\n"
     ]
    },
    {
     "data": {
      "text/plain": [
       "(None,\n",
       "               emp_no\n",
       " count  443308.000000\n",
       " mean   253075.034430\n",
       " std    161853.292613\n",
       " min     10001.000000\n",
       " 25%     84855.750000\n",
       " 50%    249847.500000\n",
       " 75%    424891.250000\n",
       " max    499999.000000)"
      ]
     },
     "execution_count": 45,
     "metadata": {},
     "output_type": "execute_result"
    }
   ],
   "source": [
    "titles_df.info(), titles_df.describe()"
   ]
  },
  {
   "cell_type": "markdown",
   "id": "fb238653",
   "metadata": {},
   "source": [
    "How many unique titles are in the titles DataFrame?"
   ]
  },
  {
   "cell_type": "code",
   "execution_count": 21,
   "id": "06ed0722",
   "metadata": {},
   "outputs": [
    {
     "data": {
      "text/plain": [
       "7"
      ]
     },
     "execution_count": 21,
     "metadata": {},
     "output_type": "execute_result"
    }
   ],
   "source": [
    "len(titles_df.title.unique())"
   ]
  },
  {
   "cell_type": "code",
   "execution_count": 38,
   "id": "3adc674b",
   "metadata": {},
   "outputs": [
    {
     "data": {
      "text/plain": [
       "7"
      ]
     },
     "execution_count": 38,
     "metadata": {},
     "output_type": "execute_result"
    }
   ],
   "source": [
    "len(titles_df.title.value_counts())"
   ]
  },
  {
   "cell_type": "markdown",
   "id": "dccd1bf8",
   "metadata": {},
   "source": [
    "What is the oldest date in the to_date column?"
   ]
  },
  {
   "cell_type": "code",
   "execution_count": 24,
   "id": "cf590a9f",
   "metadata": {},
   "outputs": [
    {
     "data": {
      "text/plain": [
       "datetime.date(1985, 3, 1)"
      ]
     },
     "execution_count": 24,
     "metadata": {},
     "output_type": "execute_result"
    }
   ],
   "source": [
    "titles_df.to_date.min()"
   ]
  },
  {
   "cell_type": "markdown",
   "id": "fb6bfd74",
   "metadata": {},
   "source": [
    "What is the most recent date in the to_date column?"
   ]
  },
  {
   "cell_type": "code",
   "execution_count": 36,
   "id": "abdb2d33",
   "metadata": {},
   "outputs": [
    {
     "data": {
      "text/plain": [
       "datetime.date(9999, 1, 1)"
      ]
     },
     "execution_count": 36,
     "metadata": {},
     "output_type": "execute_result"
    }
   ],
   "source": [
    "# including currrently employed\n",
    "titles_df.to_date.max()"
   ]
  },
  {
   "cell_type": "code",
   "execution_count": 35,
   "id": "18827e54",
   "metadata": {},
   "outputs": [
    {
     "data": {
      "text/plain": [
       "datetime.date(2002, 8, 1)"
      ]
     },
     "execution_count": 35,
     "metadata": {},
     "output_type": "execute_result"
    }
   ],
   "source": [
    "# excluding currently employed people\n",
    "titles_df.to_date[titles_df.to_date != titles_df.to_date.max()].max()"
   ]
  },
  {
   "cell_type": "markdown",
   "id": "df317b15",
   "metadata": {},
   "source": [
    "## Exercises II"
   ]
  },
  {
   "cell_type": "code",
   "execution_count": null,
   "id": "54292787",
   "metadata": {},
   "outputs": [],
   "source": [
    "Copy the users and roles DataFrames from the examples above."
   ]
  },
  {
   "cell_type": "code",
   "execution_count": null,
   "id": "8268eb2d",
   "metadata": {},
   "outputs": [],
   "source": [
    "What is the result of using a right join on the DataFrames?"
   ]
  },
  {
   "cell_type": "code",
   "execution_count": null,
   "id": "cd52a1b3",
   "metadata": {},
   "outputs": [],
   "source": [
    "What is the result of using an outer join on the DataFrames?"
   ]
  },
  {
   "cell_type": "code",
   "execution_count": null,
   "id": "028f29a4",
   "metadata": {},
   "outputs": [],
   "source": [
    "What happens if you drop the foreign keys from the DataFrames and try to merge them?"
   ]
  },
  {
   "cell_type": "code",
   "execution_count": null,
   "id": "affcda4f",
   "metadata": {},
   "outputs": [],
   "source": [
    "Load the mpg dataset from PyDataset."
   ]
  },
  {
   "cell_type": "code",
   "execution_count": null,
   "id": "1ed88ca1",
   "metadata": {},
   "outputs": [],
   "source": [
    "Output and read the documentation for the mpg dataset."
   ]
  },
  {
   "cell_type": "code",
   "execution_count": null,
   "id": "1d4a56c4",
   "metadata": {},
   "outputs": [],
   "source": [
    "How many rows and columns are in the dataset?"
   ]
  },
  {
   "cell_type": "code",
   "execution_count": null,
   "id": "8c2a2c04",
   "metadata": {},
   "outputs": [],
   "source": [
    "Check out your column names and perform any cleanup you may want on them."
   ]
  },
  {
   "cell_type": "markdown",
   "id": "9a3aae4a",
   "metadata": {},
   "source": [
    "## Exercises III"
   ]
  },
  {
   "cell_type": "markdown",
   "id": "b562d6b9",
   "metadata": {},
   "source": [
    "Use your get_db_url function to help you explore the data from the chipotle database."
   ]
  },
  {
   "cell_type": "markdown",
   "id": "3afab1c6",
   "metadata": {},
   "source": [
    "What is the total price for each order?"
   ]
  },
  {
   "cell_type": "markdown",
   "id": "ba4d3bc7",
   "metadata": {},
   "source": [
    "What are the most popular 3 items?"
   ]
  },
  {
   "cell_type": "markdown",
   "id": "baa4a619",
   "metadata": {},
   "source": [
    "Which item has produced the most revenue?"
   ]
  },
  {
   "cell_type": "markdown",
   "id": "6c9b3550",
   "metadata": {},
   "source": [
    "Join the employees and titles DataFrames together."
   ]
  },
  {
   "cell_type": "markdown",
   "id": "68b85325",
   "metadata": {},
   "source": [
    "For each title, find the hire date of the employee that was hired most recently with that title."
   ]
  },
  {
   "cell_type": "markdown",
   "id": "45c7afac",
   "metadata": {},
   "source": [
    "Write the code necessary to create a cross tabulation of the number of titles by department. (Hint: this will involve a combination of SQL code to pull the necessary data and python/pandas code to perform the manipulations.)"
   ]
  },
  {
   "cell_type": "code",
   "execution_count": null,
   "id": "de568ac8",
   "metadata": {},
   "outputs": [],
   "source": []
  }
 ],
 "metadata": {
  "kernelspec": {
   "display_name": "Python 3 (ipykernel)",
   "language": "python",
   "name": "python3"
  },
  "language_info": {
   "codemirror_mode": {
    "name": "ipython",
    "version": 3
   },
   "file_extension": ".py",
   "mimetype": "text/x-python",
   "name": "python",
   "nbconvert_exporter": "python",
   "pygments_lexer": "ipython3",
   "version": "3.9.13"
  }
 },
 "nbformat": 4,
 "nbformat_minor": 5
}
