{
 "cells": [
  {
   "cell_type": "markdown",
   "id": "754bd5d1",
   "metadata": {},
   "source": [
    "## Exercises Part I\n",
    "Use Series attributes and methods to explore your fruits Series."
   ]
  },
  {
   "cell_type": "code",
   "execution_count": 2,
   "id": "cba9d89d",
   "metadata": {},
   "outputs": [],
   "source": [
    "import pandas as pd\n",
    "import numpy as np\n",
    "import matplotlib.pyplot as plt"
   ]
  },
  {
   "cell_type": "code",
   "execution_count": 3,
   "id": "bd54d9b1",
   "metadata": {},
   "outputs": [],
   "source": [
    "list_fruits = [\"kiwi\", \"mango\", \"strawberry\", \"pineapple\", \"gala apple\", \"honeycrisp apple\", \"tomato\", \"watermelon\", \"honeydew\", \"kiwi\", \"kiwi\", \"kiwi\", \"mango\", \"blueberry\", \"blackberry\", \"gooseberry\", \"papaya\"]\n",
    "fruits_series = pd.Series(list_fruits)"
   ]
  },
  {
   "cell_type": "markdown",
   "id": "0e5f7086",
   "metadata": {},
   "source": [
    "Determine the number of elements in fruits."
   ]
  },
  {
   "cell_type": "code",
   "execution_count": 5,
   "id": "fc41991d",
   "metadata": {},
   "outputs": [
    {
     "data": {
      "text/plain": [
       "17"
      ]
     },
     "execution_count": 5,
     "metadata": {},
     "output_type": "execute_result"
    }
   ],
   "source": [
    "fruits_series.size"
   ]
  },
  {
   "cell_type": "markdown",
   "id": "a09a6287",
   "metadata": {},
   "source": [
    "Output only the index from fruits."
   ]
  },
  {
   "cell_type": "code",
   "execution_count": 66,
   "id": "9c2f6f84",
   "metadata": {},
   "outputs": [
    {
     "data": {
      "text/plain": [
       "[0, 1, 2, 3, 4, 5, 6, 7, 8, 9, 10, 11, 12, 13, 14, 15, 16]"
      ]
     },
     "execution_count": 66,
     "metadata": {},
     "output_type": "execute_result"
    }
   ],
   "source": [
    "list(fruits_series.index)"
   ]
  },
  {
   "cell_type": "markdown",
   "id": "e69f33af",
   "metadata": {},
   "source": [
    "Output only the values from fruits."
   ]
  },
  {
   "cell_type": "code",
   "execution_count": 9,
   "id": "df49954e",
   "metadata": {},
   "outputs": [
    {
     "data": {
      "text/plain": [
       "array(['kiwi', 'mango', 'strawberry', 'pineapple', 'gala apple',\n",
       "       'honeycrisp apple', 'tomato', 'watermelon', 'honeydew', 'kiwi',\n",
       "       'kiwi', 'kiwi', 'mango', 'blueberry', 'blackberry', 'gooseberry',\n",
       "       'papaya'], dtype=object)"
      ]
     },
     "execution_count": 9,
     "metadata": {},
     "output_type": "execute_result"
    }
   ],
   "source": [
    "fruits_series.values"
   ]
  },
  {
   "cell_type": "markdown",
   "id": "08f50d4f",
   "metadata": {},
   "source": [
    "Confirm the data type of the values in fruits."
   ]
  },
  {
   "cell_type": "code",
   "execution_count": 14,
   "id": "da01c423",
   "metadata": {},
   "outputs": [
    {
     "data": {
      "text/plain": [
       "dtype('O')"
      ]
     },
     "execution_count": 14,
     "metadata": {},
     "output_type": "execute_result"
    }
   ],
   "source": [
    "fruits_series.values.dtype"
   ]
  },
  {
   "cell_type": "markdown",
   "id": "a5d94704",
   "metadata": {},
   "source": [
    "Output only the first five values from fruits. Output the last three values. Output two random values from fruits."
   ]
  },
  {
   "cell_type": "code",
   "execution_count": 7,
   "id": "a9b3e09f",
   "metadata": {},
   "outputs": [
    {
     "name": "stdout",
     "output_type": "stream",
     "text": [
      "0          kiwi\n",
      "1         mango\n",
      "2    strawberry\n",
      "3     pineapple\n",
      "4    gala apple\n",
      "dtype: object\n",
      "14    blackberry\n",
      "15    gooseberry\n",
      "16        papaya\n",
      "dtype: object\n"
     ]
    },
    {
     "data": {
      "text/plain": [
       "15    gooseberry\n",
       "10          kiwi\n",
       "dtype: object"
      ]
     },
     "execution_count": 7,
     "metadata": {},
     "output_type": "execute_result"
    }
   ],
   "source": [
    "print(fruits_series.head())\n",
    "print(fruits_series.tail(3))\n",
    "fruits_series.sample(2)"
   ]
  },
  {
   "cell_type": "markdown",
   "id": "e1c99921",
   "metadata": {},
   "source": [
    "Run the .describe() on fruits to see what information it returns when called on a Series with string values."
   ]
  },
  {
   "cell_type": "code",
   "execution_count": 8,
   "id": "b1be6419",
   "metadata": {},
   "outputs": [
    {
     "data": {
      "text/plain": [
       "count       17\n",
       "unique      13\n",
       "top       kiwi\n",
       "freq         4\n",
       "dtype: object"
      ]
     },
     "execution_count": 8,
     "metadata": {},
     "output_type": "execute_result"
    }
   ],
   "source": [
    "fruits_series.describe()"
   ]
  },
  {
   "cell_type": "markdown",
   "id": "726eba2b",
   "metadata": {},
   "source": [
    "Run the code necessary to produce only the unique string values from fruits."
   ]
  },
  {
   "cell_type": "code",
   "execution_count": 13,
   "id": "a1b4bd8f",
   "metadata": {},
   "outputs": [
    {
     "data": {
      "text/plain": [
       "Index(['kiwi', 'mango', 'strawberry', 'pineapple', 'gala apple',\n",
       "       'honeycrisp apple', 'tomato', 'watermelon', 'honeydew', 'blueberry',\n",
       "       'blackberry', 'gooseberry', 'papaya'],\n",
       "      dtype='object')"
      ]
     },
     "execution_count": 13,
     "metadata": {},
     "output_type": "execute_result"
    }
   ],
   "source": [
    "np.unique(fruits_series)\n",
    "fruits_series.unique()\n",
    "fruits_series.value_counts().index"
   ]
  },
  {
   "cell_type": "markdown",
   "id": "5200af37",
   "metadata": {},
   "source": [
    "Determine how many times each unique string value occurs in fruits."
   ]
  },
  {
   "cell_type": "code",
   "execution_count": 14,
   "id": "2d12a78d",
   "metadata": {},
   "outputs": [
    {
     "data": {
      "text/plain": [
       "kiwi                4\n",
       "mango               2\n",
       "strawberry          1\n",
       "pineapple           1\n",
       "gala apple          1\n",
       "honeycrisp apple    1\n",
       "tomato              1\n",
       "watermelon          1\n",
       "honeydew            1\n",
       "blueberry           1\n",
       "blackberry          1\n",
       "gooseberry          1\n",
       "papaya              1\n",
       "dtype: int64"
      ]
     },
     "execution_count": 14,
     "metadata": {},
     "output_type": "execute_result"
    }
   ],
   "source": [
    "fruits_series.value_counts()"
   ]
  },
  {
   "cell_type": "markdown",
   "id": "d8a24056",
   "metadata": {},
   "source": [
    "Determine the string value that occurs most frequently in fruits."
   ]
  },
  {
   "cell_type": "code",
   "execution_count": 16,
   "id": "0a0f4921",
   "metadata": {},
   "outputs": [
    {
     "data": {
      "text/plain": [
       "'kiwi'"
      ]
     },
     "execution_count": 16,
     "metadata": {},
     "output_type": "execute_result"
    }
   ],
   "source": [
    "fruits_series.value_counts().head(1)\n",
    "\n",
    "fruits_series.value_counts()\n",
    "\n",
    "fruits_series.value_counts().idxmax(), fruits_series.value_counts().max()\n",
    "\n",
    "fruits_series.value_counts().nlargest(n=1)\n",
    "\n",
    "fruits_series.describe()['top']"
   ]
  },
  {
   "cell_type": "markdown",
   "id": "1f90d04e",
   "metadata": {},
   "source": [
    "Determine the string value that occurs least frequently in fruits"
   ]
  },
  {
   "cell_type": "code",
   "execution_count": 61,
   "id": "da1d26ca",
   "metadata": {},
   "outputs": [
    {
     "data": {
      "text/plain": [
       "strawberry          1\n",
       "pineapple           1\n",
       "gala apple          1\n",
       "honeycrisp apple    1\n",
       "tomato              1\n",
       "watermelon          1\n",
       "honeydew            1\n",
       "blueberry           1\n",
       "blackberry          1\n",
       "gooseberry          1\n",
       "papaya              1\n",
       "dtype: int64"
      ]
     },
     "execution_count": 61,
     "metadata": {},
     "output_type": "execute_result"
    }
   ],
   "source": [
    "mask = fruits_series.value_counts() == 1\n",
    "fruits_series.value_counts()[mask]\n",
    "# fruits_series.value_counts().min(), fruits_series.value_counts().idxmin()\n",
    "fruits_series.value_counts().nsmallest(n=1, keep='all')"
   ]
  },
  {
   "cell_type": "markdown",
   "id": "dc52ca09",
   "metadata": {},
   "source": [
    "# Exercises Part II\n",
    "\n",
    "Explore more attributes and methods while you continue to work with the fruits Series."
   ]
  },
  {
   "cell_type": "markdown",
   "id": "b3eeecac",
   "metadata": {},
   "source": [
    "Capitalize all the string values in fruits."
   ]
  },
  {
   "cell_type": "code",
   "execution_count": 21,
   "id": "e2ba98dd",
   "metadata": {},
   "outputs": [
    {
     "data": {
      "text/plain": [
       "0                 Kiwi\n",
       "1                Mango\n",
       "2           Strawberry\n",
       "3            Pineapple\n",
       "4           Gala apple\n",
       "5     Honeycrisp apple\n",
       "6               Tomato\n",
       "7           Watermelon\n",
       "8             Honeydew\n",
       "9                 Kiwi\n",
       "10                Kiwi\n",
       "11                Kiwi\n",
       "12               Mango\n",
       "13           Blueberry\n",
       "14          Blackberry\n",
       "15          Gooseberry\n",
       "16              Papaya\n",
       "dtype: object"
      ]
     },
     "execution_count": 21,
     "metadata": {},
     "output_type": "execute_result"
    }
   ],
   "source": [
    "fruits_series.str.capitalize()"
   ]
  },
  {
   "cell_type": "markdown",
   "id": "22ebe688",
   "metadata": {},
   "source": [
    "Count the letter \"a\" in all the string values (use string vectorization)."
   ]
  },
  {
   "cell_type": "code",
   "execution_count": 5,
   "id": "afa2d1c3",
   "metadata": {},
   "outputs": [
    {
     "data": {
      "text/plain": [
       "14"
      ]
     },
     "execution_count": 5,
     "metadata": {},
     "output_type": "execute_result"
    }
   ],
   "source": [
    "fruits_series.str.count('a').sum()"
   ]
  },
  {
   "cell_type": "markdown",
   "id": "5a140476",
   "metadata": {},
   "source": [
    "Output the number of vowels in each and every string value."
   ]
  },
  {
   "cell_type": "code",
   "execution_count": 36,
   "id": "517f1881",
   "metadata": {},
   "outputs": [
    {
     "data": {
      "text/plain": [
       "0     2\n",
       "1     2\n",
       "2     2\n",
       "3     4\n",
       "4     4\n",
       "5     5\n",
       "6     3\n",
       "7     4\n",
       "8     3\n",
       "9     2\n",
       "10    2\n",
       "11    2\n",
       "12    2\n",
       "13    3\n",
       "14    2\n",
       "15    4\n",
       "16    3\n",
       "dtype: int64"
      ]
     },
     "execution_count": 36,
     "metadata": {},
     "output_type": "execute_result"
    }
   ],
   "source": [
    "def count_vowels(str):\n",
    "    count = 0\n",
    "    for i in str:\n",
    "        if i in 'aeiou':\n",
    "            count +=1\n",
    "    return count\n",
    "\n",
    "fruits_series.apply(count_vowels)    "
   ]
  },
  {
   "cell_type": "markdown",
   "id": "039fbd6a",
   "metadata": {},
   "source": [
    "Write the code to get the longest string value from fruits."
   ]
  },
  {
   "cell_type": "code",
   "execution_count": 7,
   "id": "828275ed",
   "metadata": {},
   "outputs": [
    {
     "data": {
      "text/plain": [
       "5    honeycrisp apple\n",
       "dtype: object"
      ]
     },
     "execution_count": 7,
     "metadata": {},
     "output_type": "execute_result"
    }
   ],
   "source": [
    "def length(x):\n",
    "    count = 0\n",
    "    for i in x:\n",
    "        count += 1\n",
    "    return count\n",
    "fruits_series[fruits_series.apply(length) == 16]"
   ]
  },
  {
   "cell_type": "markdown",
   "id": "622a7264",
   "metadata": {},
   "source": [
    "Write the code to get the string values with 5 or more letters in the name."
   ]
  },
  {
   "cell_type": "code",
   "execution_count": 12,
   "id": "7c964fb0",
   "metadata": {},
   "outputs": [
    {
     "data": {
      "text/plain": [
       "1                mango\n",
       "2           strawberry\n",
       "3            pineapple\n",
       "4           gala apple\n",
       "5     honeycrisp apple\n",
       "6               tomato\n",
       "7           watermelon\n",
       "8             honeydew\n",
       "12               mango\n",
       "13           blueberry\n",
       "14          blackberry\n",
       "15          gooseberry\n",
       "16              papaya\n",
       "dtype: object"
      ]
     },
     "execution_count": 12,
     "metadata": {},
     "output_type": "execute_result"
    }
   ],
   "source": [
    "# fruits_series[fruits_series.apply(length) >= 5]\n",
    "fruits_series[fruits_series.apply(len) >= 5]\n",
    "fruits_series[fruits_series.str.len() >= 5]"
   ]
  },
  {
   "cell_type": "markdown",
   "id": "ffc40b6f",
   "metadata": {},
   "source": [
    "Find the fruit(s) containing the letter \"o\" two or more times."
   ]
  },
  {
   "cell_type": "code",
   "execution_count": 16,
   "id": "3821c06f",
   "metadata": {},
   "outputs": [
    {
     "data": {
      "text/plain": [
       "6         tomato\n",
       "15    gooseberry\n",
       "dtype: object"
      ]
     },
     "execution_count": 16,
     "metadata": {},
     "output_type": "execute_result"
    }
   ],
   "source": [
    "fruits_series[fruits_series.str.count('o') >= 2]\n",
    "fruits_series[fruits_series.apply(lambda x: x.count('o') >= 2)]"
   ]
  },
  {
   "cell_type": "markdown",
   "id": "57132fe5",
   "metadata": {},
   "source": [
    "Write the code to get only the string values containing the substring \"berry\"."
   ]
  },
  {
   "cell_type": "code",
   "execution_count": 17,
   "id": "71086c78",
   "metadata": {},
   "outputs": [
    {
     "data": {
      "text/plain": [
       "0     False\n",
       "1     False\n",
       "2      True\n",
       "3     False\n",
       "4     False\n",
       "5     False\n",
       "6     False\n",
       "7     False\n",
       "8     False\n",
       "9     False\n",
       "10    False\n",
       "11    False\n",
       "12    False\n",
       "13     True\n",
       "14     True\n",
       "15     True\n",
       "16    False\n",
       "dtype: bool"
      ]
     },
     "execution_count": 17,
     "metadata": {},
     "output_type": "execute_result"
    }
   ],
   "source": [
    "fruits_series[fruits_series.apply(lambda x:'berry' in x)]\n",
    "fruits_series.str.contains('berry')"
   ]
  },
  {
   "cell_type": "markdown",
   "id": "4ba9ff32",
   "metadata": {},
   "source": [
    "Write the code to get only the string values containing the substring \"apple\"."
   ]
  },
  {
   "cell_type": "code",
   "execution_count": 71,
   "id": "c86c39e8",
   "metadata": {},
   "outputs": [
    {
     "data": {
      "text/plain": [
       "3           pineapple\n",
       "4          gala apple\n",
       "5    honeycrisp apple\n",
       "dtype: object"
      ]
     },
     "execution_count": 71,
     "metadata": {},
     "output_type": "execute_result"
    }
   ],
   "source": [
    "fruits_series[fruits_series.apply(lambda x: 'apple' in x)]"
   ]
  },
  {
   "cell_type": "markdown",
   "id": "50e5189d",
   "metadata": {},
   "source": [
    "Which string value contains the most vowels?"
   ]
  },
  {
   "cell_type": "code",
   "execution_count": 22,
   "id": "0c88e767",
   "metadata": {},
   "outputs": [
    {
     "data": {
      "text/plain": [
       "5    honeycrisp apple\n",
       "dtype: object"
      ]
     },
     "execution_count": 22,
     "metadata": {},
     "output_type": "execute_result"
    }
   ],
   "source": [
    "# fruits_series[fruits_series.apply(count_vowels) == 5 ]\n",
    "fruits_series[fruits_series.str.count('[aeiou]') == fruits_series.str.count('[aeiou]').max()]"
   ]
  },
  {
   "cell_type": "markdown",
   "id": "e08c7782",
   "metadata": {},
   "source": [
    "# Exercises Part III\n",
    "\n",
    "Use pandas to create a Series named letters from the following string. The easiest way to make this string into a Pandas series is to use list to convert each individual letter into a single string on a basic Python list.\n",
    "\n",
    "'hnvidduckkqxwymbimkccexbkmqygkxoyndmcxnwqarhyffsjpsrabtjzsypmzadfavyrnndndvswreauxovncxtwzpwejilzjrmmbbgbyxvjtewqthafnbkqplarokkyydtubbmnexoypulzwfhqvckdpqtpoppzqrmcvhhpwgjwupgzhiofohawytlsiyecuproguy'"
   ]
  },
  {
   "cell_type": "code",
   "execution_count": 24,
   "id": "13fa33b5",
   "metadata": {},
   "outputs": [
    {
     "data": {
      "text/plain": [
       "pandas.core.series.Series"
      ]
     },
     "execution_count": 24,
     "metadata": {},
     "output_type": "execute_result"
    }
   ],
   "source": [
    "# converting the letters to a series\n",
    "letters = 'hnvidduckkqxwymbimkccexbkmqygkxoyndmcxnwqarhyffsjpsrabtjzsypmzadfavyrnndndvswreauxovncxtwzpwejilzjrmmbbgbyxvjtewqthafnbkqplarokkyydtubbmnexoypulzwfhqvckdpqtpoppzqrmcvhhpwgjwupgzhiofohawytlsiyecuproguy'\n",
    "letters = [letter for letter in letters]\n",
    "letters = pd.Series(letters)\n",
    "type(letters)"
   ]
  },
  {
   "cell_type": "markdown",
   "id": "4b1a3ca2",
   "metadata": {},
   "source": [
    "Which letter occurs the most frequently in the letters Series?"
   ]
  },
  {
   "cell_type": "code",
   "execution_count": 90,
   "id": "bb83a23b",
   "metadata": {},
   "outputs": [
    {
     "data": {
      "text/plain": [
       "y    13\n",
       "dtype: int64"
      ]
     },
     "execution_count": 90,
     "metadata": {},
     "output_type": "execute_result"
    }
   ],
   "source": [
    "letters.value_counts().nlargest(n=1)"
   ]
  },
  {
   "cell_type": "markdown",
   "id": "7c40a3d1",
   "metadata": {},
   "source": [
    "Which letter occurs the Least frequently?"
   ]
  },
  {
   "cell_type": "code",
   "execution_count": 92,
   "id": "9aed6a19",
   "metadata": {},
   "outputs": [
    {
     "data": {
      "text/plain": [
       "l    4\n",
       "dtype: int64"
      ]
     },
     "execution_count": 92,
     "metadata": {},
     "output_type": "execute_result"
    }
   ],
   "source": [
    "letters.value_counts().nsmallest(n=1, keep='all')"
   ]
  },
  {
   "cell_type": "markdown",
   "id": "aafd9a0d",
   "metadata": {},
   "source": [
    "How many vowels are in the Series?"
   ]
  },
  {
   "cell_type": "code",
   "execution_count": 33,
   "id": "61211fec",
   "metadata": {},
   "outputs": [
    {
     "data": {
      "text/plain": [
       "34"
      ]
     },
     "execution_count": 33,
     "metadata": {},
     "output_type": "execute_result"
    }
   ],
   "source": [
    "letters[letters.isin(['a', 'e', 'i', 'o', 'u'])].count()\n",
    "\n",
    "letters[letters.isin(['a', 'e', 'i', 'o', 'u'])].shape\n",
    "\n",
    "len(letters[letters.isin(['a', 'e', 'i', 'o', 'u'])])"
   ]
  },
  {
   "cell_type": "markdown",
   "id": "415f203c",
   "metadata": {},
   "source": [
    "How many consonants are in the Series?"
   ]
  },
  {
   "cell_type": "code",
   "execution_count": 102,
   "id": "db80f7d1",
   "metadata": {},
   "outputs": [
    {
     "data": {
      "text/plain": [
       "166"
      ]
     },
     "execution_count": 102,
     "metadata": {},
     "output_type": "execute_result"
    }
   ],
   "source": [
    "letters[~letters.isin(['a', 'e', 'i', 'o', 'u'])].count()"
   ]
  },
  {
   "cell_type": "markdown",
   "id": "12ba1a90",
   "metadata": {},
   "source": [
    "Create a Series that has all of the same letters but uppercased."
   ]
  },
  {
   "cell_type": "code",
   "execution_count": 104,
   "id": "85833741",
   "metadata": {},
   "outputs": [
    {
     "data": {
      "text/plain": [
       "0      H\n",
       "1      N\n",
       "2      V\n",
       "3      I\n",
       "4      D\n",
       "      ..\n",
       "195    R\n",
       "196    O\n",
       "197    G\n",
       "198    U\n",
       "199    Y\n",
       "Length: 200, dtype: object"
      ]
     },
     "execution_count": 104,
     "metadata": {},
     "output_type": "execute_result"
    }
   ],
   "source": [
    "letters.str.capitalize()"
   ]
  },
  {
   "cell_type": "markdown",
   "id": "1d0771b7",
   "metadata": {},
   "source": [
    "Create a bar plot of the frequencies of the 6 most commonly occuring letters."
   ]
  },
  {
   "cell_type": "code",
   "execution_count": 36,
   "id": "1f695a94",
   "metadata": {},
   "outputs": [
    {
     "data": {
      "text/plain": [
       "[Text(0.5, 0, 'letters')]"
      ]
     },
     "execution_count": 36,
     "metadata": {},
     "output_type": "execute_result"
    },
    {
     "data": {
      "image/png": "[encoded data removed]",
      "text/plain": [
       "<Figure size 640x480 with 1 Axes>"
      ]
     },
     "metadata": {},
     "output_type": "display_data"
    }
   ],
   "source": [
    "letters.value_counts().head(6).plot.bar(title='lets on lets on lets').set(xlabel='letters')"
   ]
  },
  {
   "cell_type": "markdown",
   "id": "8da33f1a",
   "metadata": {},
   "source": [
    "Use pandas to create a Series named numbers from the following list:\n",
    "['$796,459.41', '$278.60', '$482,571.67', '$4,503,915.98', '$2,121,418.3', '$1,260,813.3', '$87,231.01', '$1,509,175.45', '$4,138,548.00', '$2,848,913.80', '$594,715.39', '$4,789,988.17', '$4,513,644.5', '$3,191,059.97', '$1,758,712.24', '$4,338,283.54', '$4,738,303.38', '$2,791,759.67', '$769,681.94', '$452,650.23']\n",
    "\n"
   ]
  },
  {
   "cell_type": "code",
   "execution_count": 38,
   "id": "0855638e",
   "metadata": {},
   "outputs": [],
   "source": [
    "nums = pd.Series(['$796,459.41', '$278.60', '$482,571.67', '$4,503,915.98', '$2,121,418.3', '$1,260,813.3', '$87,231.01', '$1,509,175.45', '$4,138,548.00', '$2,848,913.80', '$594,715.39', '$4,789,988.17', '$4,513,644.5', '$3,191,059.97', '$1,758,712.24', '$4,338,283.54', '$4,738,303.38', '$2,791,759.67', '$769,681.94', '$452,650.23'])"
   ]
  },
  {
   "cell_type": "markdown",
   "id": "d0307778",
   "metadata": {},
   "source": [
    "What is the data type of the numbers Series?"
   ]
  },
  {
   "cell_type": "code",
   "execution_count": 109,
   "id": "f6b98261",
   "metadata": {},
   "outputs": [
    {
     "data": {
      "text/plain": [
       "dtype('O')"
      ]
     },
     "execution_count": 109,
     "metadata": {},
     "output_type": "execute_result"
    }
   ],
   "source": [
    "nums.dtype"
   ]
  },
  {
   "cell_type": "markdown",
   "id": "50aa75d1",
   "metadata": {},
   "source": [
    "How many elements are in the number Series?"
   ]
  },
  {
   "cell_type": "code",
   "execution_count": 111,
   "id": "c358550a",
   "metadata": {},
   "outputs": [
    {
     "data": {
      "text/plain": [
       "20"
      ]
     },
     "execution_count": 111,
     "metadata": {},
     "output_type": "execute_result"
    }
   ],
   "source": [
    "nums.size"
   ]
  },
  {
   "cell_type": "markdown",
   "id": "73d97356",
   "metadata": {},
   "source": [
    "Perform the necessary manipulations by accessing Series attributes and methods to convert the numbers Series to a numeric data type."
   ]
  },
  {
   "cell_type": "code",
   "execution_count": 41,
   "id": "f29ef509",
   "metadata": {},
   "outputs": [
    {
     "data": {
      "text/plain": [
       "0      796459.41\n",
       "1         278.60\n",
       "2      482571.67\n",
       "3     4503915.98\n",
       "4     2121418.30\n",
       "5     1260813.30\n",
       "6       87231.01\n",
       "7     1509175.45\n",
       "8     4138548.00\n",
       "9     2848913.80\n",
       "10     594715.39\n",
       "11    4789988.17\n",
       "12    4513644.50\n",
       "13    3191059.97\n",
       "14    1758712.24\n",
       "15    4338283.54\n",
       "16    4738303.38\n",
       "17    2791759.67\n",
       "18     769681.94\n",
       "19     452650.23\n",
       "dtype: float64"
      ]
     },
     "execution_count": 41,
     "metadata": {},
     "output_type": "execute_result"
    }
   ],
   "source": [
    "#nums = nums.str.replace('$', '').str.replace(',', '').astype(float)\n",
    "nums.dtype\n",
    "nums"
   ]
  },
  {
   "cell_type": "markdown",
   "id": "6377513f",
   "metadata": {},
   "source": [
    "Run the code to discover the maximum value from the Series."
   ]
  },
  {
   "cell_type": "code",
   "execution_count": 126,
   "id": "97440011",
   "metadata": {},
   "outputs": [
    {
     "data": {
      "text/plain": [
       "4789988.17"
      ]
     },
     "execution_count": 126,
     "metadata": {},
     "output_type": "execute_result"
    }
   ],
   "source": [
    "nums.max()"
   ]
  },
  {
   "cell_type": "markdown",
   "id": "770a9957",
   "metadata": {},
   "source": [
    "Run the code to discover the minimum value from the Series."
   ]
  },
  {
   "cell_type": "code",
   "execution_count": 127,
   "id": "1e5bef42",
   "metadata": {},
   "outputs": [
    {
     "data": {
      "text/plain": [
       "278.6"
      ]
     },
     "execution_count": 127,
     "metadata": {},
     "output_type": "execute_result"
    }
   ],
   "source": [
    "nums.min()"
   ]
  },
  {
   "cell_type": "markdown",
   "id": "e1291cff",
   "metadata": {},
   "source": [
    "What is the range of the values in the Series?"
   ]
  },
  {
   "cell_type": "code",
   "execution_count": 42,
   "id": "b0480063",
   "metadata": {},
   "outputs": [
    {
     "data": {
      "text/plain": [
       "4789709.57"
      ]
     },
     "execution_count": 42,
     "metadata": {},
     "output_type": "execute_result"
    }
   ],
   "source": [
    "nums.max() - nums.min()"
   ]
  },
  {
   "cell_type": "markdown",
   "id": "120a1e4c",
   "metadata": {},
   "source": [
    "Bin the data into 4 equally sized intervals or bins and output how many values fall into each bin."
   ]
  },
  {
   "cell_type": "code",
   "execution_count": 45,
   "id": "e96c957f",
   "metadata": {},
   "outputs": [
    {
     "data": {
      "text/plain": [
       "(278.59900000000005, 725940.302]    5\n",
       "(725940.302, 1940065.27]            5\n",
       "(1940065.27, 4188481.885]           5\n",
       "(4188481.885, 4789988.17]           5\n",
       "dtype: int64"
      ]
     },
     "execution_count": 45,
     "metadata": {},
     "output_type": "execute_result"
    }
   ],
   "source": [
    "nums.value_counts(bins=4)\n",
    "\n",
    "pd.qcut(nums, 4).value_counts()"
   ]
  },
  {
   "cell_type": "markdown",
   "id": "aea7aaf7",
   "metadata": {},
   "source": [
    "Plot the binned data in a meaningful way. Be sure to include a title and axis labels."
   ]
  },
  {
   "cell_type": "code",
   "execution_count": 46,
   "id": "c7117e3f",
   "metadata": {},
   "outputs": [
    {
     "data": {
      "text/plain": [
       "Text(0, 0.5, 'US $')"
      ]
     },
     "execution_count": 46,
     "metadata": {},
     "output_type": "execute_result"
    },
    {
     "data": {
      "image/png": "[encoded data removed]",
      "text/plain": [
       "<Figure size 640x480 with 1 Axes>"
      ]
     },
     "metadata": {},
     "output_type": "display_data"
    }
   ],
   "source": [
    "bin_edges = [0, nums.max()/4 * 1, nums.max()/4 * 2, nums.max()/4 * 3, nums.max()/4 * 4]\n",
    "\n",
    "bin_labels = ['under $120k', '$120k - $240k', '$240k - $360k', '$360k - $480k']\n",
    "\n",
    "pd.cut(nums, bins=bin_edges, labels=bin_labels, include_lowest=True).value_counts().sort_index().plot.barh(color='green', width=.5, ec='black')\n",
    "\n",
    "plt.title('Num Bins')\n",
    "plt.xlabel('Count of Numbers')\n",
    "plt.ylabel('US $')"
   ]
  },
  {
   "cell_type": "markdown",
   "id": "0d1d2457",
   "metadata": {},
   "source": [
    "Use pandas to create a Series named exam_scores from the following list:\n",
    "\n",
    "[60, 86, 75, 62, 93, 71, 60, 83, 95, 78, 65, 72, 69, 81, 96, 80, 85, 92, 82, 78]"
   ]
  },
  {
   "cell_type": "code",
   "execution_count": 48,
   "id": "a6c64481",
   "metadata": {},
   "outputs": [],
   "source": [
    "exam_scores = pd.Series([60, 86, 75, 62, 93, 71, 60, 83, 95, 78, 65, 72, 69, 81, 96, 80, 85, 92, 82, 78])"
   ]
  },
  {
   "cell_type": "markdown",
   "id": "ef11323b",
   "metadata": {},
   "source": [
    "How many elements are in the exam_scores Series?"
   ]
  },
  {
   "cell_type": "code",
   "execution_count": 176,
   "id": "6f71d0df",
   "metadata": {},
   "outputs": [
    {
     "data": {
      "text/plain": [
       "20"
      ]
     },
     "execution_count": 176,
     "metadata": {},
     "output_type": "execute_result"
    }
   ],
   "source": [
    "exam_scores.size"
   ]
  },
  {
   "cell_type": "markdown",
   "id": "29b120c6",
   "metadata": {},
   "source": [
    "Run the code to discover the minimum, the maximum, the mean, and the median scores for the exam_scores Series."
   ]
  },
  {
   "cell_type": "code",
   "execution_count": 177,
   "id": "fc49aba8",
   "metadata": {},
   "outputs": [
    {
     "data": {
      "text/plain": [
       "count    20.000000\n",
       "mean     78.150000\n",
       "std      11.352139\n",
       "min      60.000000\n",
       "25%      70.500000\n",
       "50%      79.000000\n",
       "75%      85.250000\n",
       "max      96.000000\n",
       "dtype: float64"
      ]
     },
     "execution_count": 177,
     "metadata": {},
     "output_type": "execute_result"
    }
   ],
   "source": [
    "exam_scores.describe()"
   ]
  },
  {
   "cell_type": "markdown",
   "id": "17bf6eca",
   "metadata": {},
   "source": [
    "Plot the Series in a meaningful way and make sure your chart has a title and axis labels."
   ]
  },
  {
   "cell_type": "code",
   "execution_count": 51,
   "id": "f6d3c372",
   "metadata": {},
   "outputs": [
    {
     "data": {
      "text/plain": [
       "Text(0, 0.5, 'Letter Grade')"
      ]
     },
     "execution_count": 51,
     "metadata": {},
     "output_type": "execute_result"
    },
    {
     "data": {
      "image/png": "[encoded data removed]",
      "text/plain": [
       "<Figure size 640x480 with 1 Axes>"
      ]
     },
     "metadata": {},
     "output_type": "display_data"
    }
   ],
   "source": [
    "bin_edges = [0, 59, 69, 79, 89, 100]\n",
    "\n",
    "bin_labels = ['F', 'D', 'C', 'B', 'A']\n",
    "\n",
    "pd.cut(exam_scores, bins=bin_edges, labels=bin_labels, include_lowest=True).value_counts().sort_index().plot.barh(color='orange', ec='black')\n",
    "\n",
    "plt.title('Student Scores')\n",
    "plt.xlabel('Number of Students')\n",
    "plt.ylabel('Letter Grade')"
   ]
  },
  {
   "cell_type": "markdown",
   "id": "9ab812c9",
   "metadata": {},
   "source": [
    "Write the code necessary to implement a curve for your exam_grades Series and save this as curved_grades. Add the necessary points to the highest grade to make it 100, and add the same number of points to every other score in the Series as well."
   ]
  },
  {
   "cell_type": "code",
   "execution_count": 199,
   "id": "6675eaa9",
   "metadata": {},
   "outputs": [
    {
     "data": {
      "text/plain": [
       "0      64\n",
       "1      90\n",
       "2      79\n",
       "3      66\n",
       "4      97\n",
       "5      75\n",
       "6      64\n",
       "7      87\n",
       "8      99\n",
       "9      82\n",
       "10     69\n",
       "11     76\n",
       "12     73\n",
       "13     85\n",
       "14    100\n",
       "15     84\n",
       "16     89\n",
       "17     96\n",
       "18     86\n",
       "19     82\n",
       "dtype: int64"
      ]
     },
     "execution_count": 199,
     "metadata": {},
     "output_type": "execute_result"
    }
   ],
   "source": [
    "# curved_grades = exam_scores + 4\n",
    "curved_grades"
   ]
  },
  {
   "cell_type": "markdown",
   "id": "99305dab",
   "metadata": {},
   "source": [
    "Use a method to convert each of the numeric values in the curved_grades Series into a categorical value of letter grades. For example, 86 should be a 'B' and 95 should be an 'A'. Save this as a Series named letter_grades."
   ]
  },
  {
   "cell_type": "code",
   "execution_count": 56,
   "id": "aadcfce0",
   "metadata": {},
   "outputs": [
    {
     "data": {
      "text/plain": [
       "F    0\n",
       "D    5\n",
       "C    5\n",
       "B    6\n",
       "A    4\n",
       "dtype: int64"
      ]
     },
     "execution_count": 56,
     "metadata": {},
     "output_type": "execute_result"
    }
   ],
   "source": [
    "letter_grades = pd.cut(exam_scores, bins=bin_edges, labels=bin_labels, include_lowest=True).value_counts().sort_index()\n",
    "letter_grades"
   ]
  },
  {
   "cell_type": "markdown",
   "id": "14ff2168",
   "metadata": {},
   "source": [
    "Plot your new categorical letter_grades Series in a meaninful way and include a title and axis labels."
   ]
  },
  {
   "cell_type": "code",
   "execution_count": 57,
   "id": "b9876325",
   "metadata": {},
   "outputs": [
    {
     "data": {
      "image/png": "[encoded data removed]",
      "text/plain": [
       "<Figure size 600x600 with 1 Axes>"
      ]
     },
     "metadata": {},
     "output_type": "display_data"
    }
   ],
   "source": [
    "letter_grades.plot.pie(subplots=True, figsize=(6, 6), shadow=True)\n",
    "plt.title('Breakdown of Student Grades')\n",
    "plt.ylabel('Letter Grades')\n",
    "plt.show()"
   ]
  },
  {
   "cell_type": "code",
   "execution_count": null,
   "id": "da7536e5",
   "metadata": {},
   "outputs": [],
   "source": []
  },
  {
   "cell_type": "code",
   "execution_count": null,
   "id": "b00c2793",
   "metadata": {},
   "outputs": [],
   "source": []
  }
 ],
 "metadata": {
  "kernelspec": {
   "display_name": "Python 3 (ipykernel)",
   "language": "python",
   "name": "python3"
  },
  "language_info": {
   "codemirror_mode": {
    "name": "ipython",
    "version": 3
   },
   "file_extension": ".py",
   "mimetype": "text/x-python",
   "name": "python",
   "nbconvert_exporter": "python",
   "pygments_lexer": "ipython3",
   "version": "3.9.13"
  }
 },
 "nbformat": 4,
 "nbformat_minor": 5
}
